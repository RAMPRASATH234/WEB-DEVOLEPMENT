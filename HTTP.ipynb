{
  "nbformat": 4,
  "nbformat_minor": 0,
  "metadata": {
    "colab": {
      "provenance": []
    },
    "kernelspec": {
      "name": "python3",
      "display_name": "Python 3"
    },
    "language_info": {
      "name": "python"
    }
  },
  "cells": [
    {
      "cell_type": "code",
      "execution_count": null,
      "metadata": {
        "id": "Kxk4wAPdA1IH"
      },
      "outputs": [],
      "source": []
    },
    {
      "cell_type": "markdown",
      "source": [
        "# WEB DEVELOPMENT\n"
      ],
      "metadata": {
        "id": "IwwSbY87BDGj"
      }
    },
    {
      "cell_type": "markdown",
      "source": [
        " 1.Explain the main components of client-server architecture and their functions?\n",
        "  - the main components of client-server architecture Using Clints, Server, Protocols. Client and server communicate using to protocol(http, https, etc.,).\n",
        "\n",
        "2.Discuss the various career paths available after completing a web development course?\n",
        "  - web development course is a front end and back end development and full stock development.(book my show and train ticket booking,etc).\n",
        "\n",
        "3.Describe the role of a web browser's developer tools in web development?\n",
        "  -  the role of a web browser's developer tools in web development using css, javascript, html.\n",
        "\n",
        "4.What are the advantages of using a Version Control System like Git in a development project?\n",
        "  - the advantage for developer and team. it is managing codes to software.reduce possibility errors in codes and efficient to work.\n",
        "\n",
        "5.Compare and contrast a text editor and an IDE, highlighting their key features and uses.\n",
        "  - A text editor is a tool writing and editing text, an IDE is a suite of tools for writing, editing, and building applications.\n",
        "  - text editor using smaller projects and basic function used\n",
        "  - IDE using larger projects and code completion and project managements"
      ],
      "metadata": {
        "id": "Vs0JeQOsBhqZ"
      }
    },
    {
      "cell_type": "code",
      "source": [],
      "metadata": {
        "id": "ALH13_kmbIZT"
      },
      "execution_count": null,
      "outputs": []
    },
    {
      "cell_type": "code",
      "source": [],
      "metadata": {
        "id": "EdmZq_r1bCXs"
      },
      "execution_count": null,
      "outputs": []
    },
    {
      "cell_type": "code",
      "source": [],
      "metadata": {
        "id": "aeBtVc1gG0WN"
      },
      "execution_count": null,
      "outputs": []
    },
    {
      "cell_type": "code",
      "source": [],
      "metadata": {
        "id": "9o3-5sdMGl54"
      },
      "execution_count": null,
      "outputs": []
    },
    {
      "cell_type": "code",
      "source": [],
      "metadata": {
        "id": "W4VQeqaACKW_"
      },
      "execution_count": null,
      "outputs": []
    }
  ]
}